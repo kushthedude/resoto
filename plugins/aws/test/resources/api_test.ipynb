{
 "cells": [
  {
   "cell_type": "code",
   "execution_count": 1,
   "metadata": {},
   "outputs": [],
   "source": [
    "%load_ext autoreload\n",
    "%autoreload 2"
   ]
  },
  {
   "cell_type": "code",
   "execution_count": 2,
   "metadata": {},
   "outputs": [],
   "source": [
    "from resoto_plugin_aws.config import AwsConfig\n",
    "from resoto_plugin_aws.aws_client import AwsClient\n",
    "from resotolib.json_bender import bend\n"
   ]
  },
  {
   "cell_type": "code",
   "execution_count": 3,
   "metadata": {},
   "outputs": [],
   "source": [
    "AWS_ACCESS_KEY_ID=\"\"\n",
    "AWS_SECRET_ACCESS_KEY=\"\"\n",
    "AWS_SESSION_TOKEN=\"\""
   ]
  },
  {
   "cell_type": "code",
   "execution_count": 4,
   "metadata": {},
   "outputs": [
    {
     "name": "stderr",
     "output_type": "stream",
     "text": [
      "{\"timestamp\": \"2022-08-01T11:28:59\", \"level\": \"INFO\", \"message\": \"[Aws] call service=elb action=describe_load_balancers\", \"pid\": 1596, \"thread\": \"MainThread\", \"process\": \"resoto\"}\n",
      "{\"timestamp\": \"2022-08-01T11:28:59\", \"level\": \"INFO\", \"message\": \"Create a new AWS session holder\", \"pid\": 1596, \"thread\": \"MainThread\", \"process\": \"resoto\"}\n",
      "{\"timestamp\": \"2022-08-01T11:28:59\", \"level\": \"INFO\", \"message\": \"[Aws] call service=elb action=describe_load_balancers: 1 results.\", \"pid\": 1596, \"thread\": \"MainThread\", \"process\": \"resoto\"}\n"
     ]
    },
    {
     "data": {
      "text/plain": [
       "[{'LoadBalancerDescriptions': [],\n",
       "  'ResponseMetadata': {'RequestId': 'fd8084b1-0e54-4554-bb55-187b24273f7e',\n",
       "   'HTTPStatusCode': 200,\n",
       "   'HTTPHeaders': {'x-amzn-requestid': 'fd8084b1-0e54-4554-bb55-187b24273f7e',\n",
       "    'content-type': 'text/xml',\n",
       "    'content-length': '335',\n",
       "    'date': 'Mon, 01 Aug 2022 09:28:59 GMT'},\n",
       "   'RetryAttempts': 0}}]"
      ]
     },
     "execution_count": 4,
     "metadata": {},
     "output_type": "execute_result"
    }
   ],
   "source": [
    "client = AwsClient(AwsConfig(None, None), \"foo\")\n",
    "\n",
    "client.AWS_ACCESS_KEY_ID = AWS_ACCESS_KEY_ID \n",
    "client.AWS_SECRET_ACCESS_KEY = AWS_SECRET_ACCESS_KEY\n",
    "client.AWS_SESSION_TOKEN = AWS_SESSION_TOKEN\n",
    "out = client.call(\"iam\", \"list_\", None)\n",
    "out"
   ]
  },
  {
   "cell_type": "code",
   "execution_count": 10,
   "metadata": {},
   "outputs": [],
   "source": [
    "from resoto_plugin_aws.resource.elb import AwsElb"
   ]
  },
  {
   "cell_type": "code",
   "execution_count": 11,
   "metadata": {},
   "outputs": [
    {
     "data": {
      "text/plain": [
       "AwsElb(id='internal-resoto-delete-me-193018008.us-east-1.elb.amazonaws.com', tags={}, name='resoto-delete-me', _clean=False, _cleaned=False, _protected=False, _deferred_connections=[], ctime=datetime.datetime(2022, 7, 29, 13, 57, 15, tzinfo=datetime.timezone.utc), mtime=None, atime=None, lb_type='elb', public_ip_address=None, backends=[], arn=None, scheme='internal', elb_canonical_hosted_zone_name=None, elb_canonical_hosted_zone_name_id='Z35SXDOTRQ7X7K', elb_listener_descriptions=[AwsElbListenerDescription(listener=AwsElbListener(protocol='HTTP', load_balancer_port=80, instance_protocol='HTTP', instance_port=80, ssl_certificate_id=None), policy_names=[])], elb_policies=AwsElbPolicies(app_cookie_stickiness_policies=[], lb_cookie_stickiness_policies=[], other_policies=[]), elb_backend_server_descriptions=[], elb_availability_zones=['us-east-1f', 'us-east-1e', 'us-east-1d', 'us-east-1c', 'us-east-1b', 'us-east-1a'], elb_health_check=AwsElbHealthCheck(target='HTTP:80/index.html', interval=30, timeout=5, unhealthy_threshold=2, healthy_threshold=10), elb_source_security_group=AwsElbSourceSecurityGroup(owner_alias='882347060974', group_name='default'))"
      ]
     },
     "execution_count": 11,
     "metadata": {},
     "output_type": "execute_result"
    }
   ],
   "source": [
    "resource=AwsElb.from_json(bend(AwsElb.mapping, out[0]['LoadBalancerDescriptions'][0]))\n",
    "resource"
   ]
  },
  {
   "cell_type": "code",
   "execution_count": 12,
   "metadata": {},
   "outputs": [
    {
     "name": "stderr",
     "output_type": "stream",
     "text": [
      "{\"timestamp\": \"2022-07-29T15:59:42\", \"level\": \"INFO\", \"message\": \"[Aws] call service=elb action=delete_load_balancer with args=LoadBalancerName\", \"pid\": 54930, \"thread\": \"MainThread\", \"process\": \"resoto\"}\n"
     ]
    },
    {
     "data": {
      "text/plain": [
       "False"
      ]
     },
     "execution_count": 12,
     "metadata": {},
     "output_type": "execute_result"
    }
   ],
   "source": [
    "resource.delete_resource(client)"
   ]
  },
  {
   "cell_type": "code",
   "execution_count": null,
   "metadata": {},
   "outputs": [],
   "source": []
  }
 ],
 "metadata": {
  "kernelspec": {
   "display_name": "Python 3.9.10 ('venv': venv)",
   "language": "python",
   "name": "python3"
  },
  "language_info": {
   "codemirror_mode": {
    "name": "ipython",
    "version": 3
   },
   "file_extension": ".py",
   "mimetype": "text/x-python",
   "name": "python",
   "nbconvert_exporter": "python",
   "pygments_lexer": "ipython3",
   "version": "3.9.10"
  },
  "orig_nbformat": 4,
  "vscode": {
   "interpreter": {
    "hash": "4c2078171d0cd0ffabd8b3545d2f0a210aefc84007d21792c1d0ad5c88643a71"
   }
  }
 },
 "nbformat": 4,
 "nbformat_minor": 2
}
